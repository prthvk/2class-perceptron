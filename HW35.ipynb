{
 "cells": [
  {
   "attachments": {},
   "cell_type": "markdown",
   "metadata": {},
   "source": [
    "Question 5 Basic SGD"
   ]
  },
  {
   "cell_type": "code",
   "execution_count": null,
   "metadata": {},
   "outputs": [],
   "source": [
    "import numpy as np \n",
    "import matplotlib.pyplot as plt\n",
    "from sklearn.preprocessing import normalize\n",
    "import math"
   ]
  },
  {
   "cell_type": "code",
   "execution_count": null,
   "metadata": {},
   "outputs": [],
   "source": [
    "bc_train_data = np.load(\"breast_cancer_train.npy\")\n",
    "np.random.shuffle(bc_train_data)\n",
    "bc_train_data_points = np.asarray(bc_train_data[:,1:])\n",
    "bc_train_labels = bc_train_data[:, 0]\n",
    "\n",
    "bc_train_L1_norms = np.linalg.norm(bc_train_data_points, ord=1, axis=0)\n",
    "bc_train_data_points = 100 * bc_train_data_points / bc_train_L1_norms\n",
    "\n",
    "bc_test_data = np.load(\"breast_cancer_test.npy\")\n",
    "bc_test_data_points = np.asarray(bc_test_data[:,1:])\n",
    "bc_test_data_points = 100 * bc_test_data_points / bc_train_L1_norms\n",
    "bc_test_labels = bc_test_data[:, 0]"
   ]
  },
  {
   "cell_type": "code",
   "execution_count": null,
   "metadata": {},
   "outputs": [],
   "source": [
    "def sigmoid_function(X):\n",
    "    return 1/(1+math.e**(-X))"
   ]
  },
  {
   "cell_type": "code",
   "execution_count": null,
   "metadata": {},
   "outputs": [],
   "source": [
    "def error(tpl,tl):\n",
    "    err_count = 0\n",
    "    for i in range(len(tpl)):\n",
    "        if (int(tpl[i]) != int(tl[i])):\n",
    "            err_count = err_count+1\n",
    "    err_rate = (err_count/len(tpl))*100\n",
    "    return err_rate"
   ]
  },
  {
   "cell_type": "code",
   "execution_count": null,
   "metadata": {},
   "outputs": [],
   "source": [
    "def plot(data, label, w):\n",
    "    x_min = min(data[:, 1])\n",
    "    x_max = max(data[:, 1])\n",
    "    x = np.linspace(x_min, x_max)\n",
    "    y = -(w[0]+w[1]*x)/w[2]\n",
    "\n",
    "    plt.plot(x, y, label='Decision Boundary')\n",
    "    plt.fill_between(x, y, 4, color='blue', alpha=.5)\n",
    "    plt.scatter(data[label == 1, 1], data[label == 1, 2],\n",
    "                color='red', label='Class 1')\n",
    "    plt.scatter(data[label == 2, 1], data[label == 2, 2],\n",
    "                color='blue', label='Class 2')\n",
    "    plt.legend()"
   ]
  },
  {
   "cell_type": "code",
   "execution_count": null,
   "metadata": {},
   "outputs": [],
   "source": [
    "def LR(r_data_points, labels, wi, eta=1, max_itr=10000):\n",
    "    itr = 0\n",
    "    epoch = 0\n",
    "    Jw_min = 1000000000\n",
    "    Jw_ar = []\n",
    "    w_opt = 0.1*np.ones([3, 1])\n",
    "    Jw = 0\n",
    "    m = len(r_data_points)\n",
    "    while itr < max_itr:\n",
    "        update_count = 0\n",
    "        for i in range(len(r_data_points)):\n",
    "            gradient = 2/m * r_data_points.T.dot(sigmoid_function(r_data_points.dot(wi)) - labels[i])\n",
    "            wi = wi - eta * gradient\n",
    "            update_count = update_count+1\n",
    "            Jw = 0\n",
    "            pred_labels = sigmoid_function(r_data_points.dot(wi))\n",
    "            Jw = - np.sum(pred_labels*np.log(pred_labels)+ ((1-pred_labels)*np.log(1-pred_labels)))/(len(pred_labels))\n",
    "   \n",
    "            if Jw < Jw_min:\n",
    "                Jw_min = Jw\n",
    "                w_opt = wi\n",
    "            Jw_ar.append(Jw.tolist()[0])\n",
    "\n",
    "            itr = itr+1\n",
    "        if update_count == 100:\n",
    "            print(\"The data is linearly separable\")\n",
    "            break\n",
    "        epoch = epoch + 1\n",
    "    return w_opt, Jw_ar, itr"
   ]
  },
  {
   "cell_type": "code",
   "execution_count": null,
   "metadata": {},
   "outputs": [],
   "source": [
    "def test_classification(data, w):\n",
    "    clas = np.zeros(len(data))\n",
    "    for i in range(len(data)):\n",
    "        pred = sigmoid_function(np.dot(w.T, data[i, :])[0])\n",
    "        if pred < 0.5:\n",
    "            clas [i] = 2\n",
    "        else:\n",
    "            clas [i] = 1\n",
    "    return clas"
   ]
  },
  {
   "cell_type": "code",
   "execution_count": null,
   "metadata": {},
   "outputs": [],
   "source": [
    "def error(tpl,tl):\n",
    "    err_count = 0\n",
    "    for i in range(len(tpl)):\n",
    "        if (int(tpl[i]) != int(tl[i])):\n",
    "            err_count = err_count+1\n",
    "    err_rate = (err_count/len(tpl))*100\n",
    "    return err_rate"
   ]
  },
  {
   "cell_type": "code",
   "execution_count": null,
   "metadata": {},
   "outputs": [],
   "source": [
    "bc_train_data_aug = np.vstack([np.ones([1, 480]), bc_train_data_points.T]).T\n",
    "\n",
    "bc_reflected_data_points = np.copy(bc_train_data_aug)\n",
    "\n",
    "for i in range(len(bc_train_data_points)):\n",
    "    if bc_train_data[i, 0] == 2.0:\n",
    "        bc_reflected_data_points[i, :] = bc_reflected_data_points[i, :] * (-1)\n",
    "\n",
    "w0 = 0.1 * np.ones([31, 1])\n",
    "\n",
    "w_o, Jw_ar, itr = LR(bc_reflected_data_points, w0)\n",
    "\n",
    "print(\"The Optimal weights are - \" + str(w_o.reshape(1,31)))\n",
    "\n",
    "bc_train_pred_labels = test_classification(bc_train_data_aug, w_o)\n",
    "\n",
    "print(\"The Classification Error Rate for Training Data = \" + str(error(bc_train_pred_labels,bc_train_labels)) + \"%\")\n",
    "\n",
    "itrs = len(Jw_ar)\n",
    "for jw in range(len(Jw_ar)):\n",
    "    Jw_ar[jw] = Jw_ar[jw] *(-1)\n",
    "\n",
    "plt.plot(list(range(itrs)),Jw_ar)\n",
    "plt.title(\"Learning Curve\")\n",
    "plt.xlabel(\"Epochs\")\n",
    "plt.ylabel(\"J(W)\")"
   ]
  },
  {
   "cell_type": "code",
   "execution_count": null,
   "metadata": {},
   "outputs": [],
   "source": [
    "bc_test_data_aug = np.vstack([np.ones([1, 89]), bc_test_data_points.T]).T\n",
    "\n",
    "bc_test_pred_labels = test_classification(bc_test_data_aug, w_o)\n",
    "\n",
    "print(\"The Classification Error Rate for Test Data = \" + str(error(bc_test_pred_labels,bc_test_labels)) + \"%\")"
   ]
  },
  {
   "cell_type": "code",
   "execution_count": null,
   "metadata": {},
   "outputs": [],
   "source": [
    "y = []\n",
    "for i in range(len(bc_train_data_points)):\n",
    "    x = np.dot(w_o.T, bc_train_data_aug[i, :])/np.linalg.norm(w_o)\n",
    "    y.append([x])\n",
    "\n",
    "y = np.asarray(y).reshape(480, 1)\n",
    "c1 = y[bc_train_labels == 1]\n",
    "c2 = y[bc_train_labels == 2]\n",
    "\n",
    "plt.hist(y, label='Data', edgecolor='black')\n",
    "plt.hist(c1, label='Class 1', edgecolor='black')\n",
    "plt.hist(c2, label='Class 2', edgecolor='black')\n",
    "plt.xlabel(\"Distance from the decision boundary\")\n",
    "plt.ylabel(\"Frequency\")\n",
    "plt.legend()"
   ]
  }
 ],
 "metadata": {
  "kernelspec": {
   "display_name": "ee559",
   "language": "python",
   "name": "python3"
  },
  "language_info": {
   "codemirror_mode": {
    "name": "ipython",
    "version": 3
   },
   "file_extension": ".py",
   "mimetype": "text/x-python",
   "name": "python",
   "nbconvert_exporter": "python",
   "pygments_lexer": "ipython3",
   "version": "3.9.15"
  },
  "orig_nbformat": 4,
  "vscode": {
   "interpreter": {
    "hash": "2eb6f81582a0ea607b0e242b259759510c2a452bfcbd8fa23b3937e27ee9350a"
   }
  }
 },
 "nbformat": 4,
 "nbformat_minor": 2
}
